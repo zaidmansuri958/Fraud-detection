{
 "cells": [
  {
   "cell_type": "code",
   "execution_count": 5,
   "metadata": {},
   "outputs": [],
   "source": [
    "import json \n",
    "import random\n",
    "from faker import Faker \n",
    "import time\n",
    "from confluent_kafka import Producer"
   ]
  },
  {
   "cell_type": "code",
   "execution_count": 6,
   "metadata": {},
   "outputs": [],
   "source": [
    "fake=Faker()"
   ]
  },
  {
   "cell_type": "code",
   "execution_count": 2,
   "metadata": {},
   "outputs": [],
   "source": [
    "def generateTransaction():\n",
    "    transaction={\n",
    "        \"transaction_id\":fake.uuid4(),\n",
    "        \"timestamp\":int(time.time()),\n",
    "        \"user_id\":random.randint(10000,99999),\n",
    "        \"amount\":round(random.uniform(5,5000),2),\n",
    "        \"transaction_type\":random.choice([\"purchase\",\"transfer\",\"withdrawal\"]),\n",
    "        \"location\":fake.city(),\n",
    "        \"merchant\":fake.company(),\n",
    "        \"card_number\":fake.credit_card_number()\n",
    "    }\n",
    "\n",
    "    return transaction"
   ]
  },
  {
   "cell_type": "code",
   "execution_count": 6,
   "metadata": {},
   "outputs": [
    {
     "data": {
      "text/plain": [
       "{'transaction_id': '63602a66-3f80-48da-9ec2-34fab0a6584c',\n",
       " 'timestamp': 1741086231,\n",
       " 'user_id': 72813,\n",
       " 'amount': 3271.68,\n",
       " 'transaction_type': 'purchase',\n",
       " 'location': 'Krausefort',\n",
       " 'merchant': 'Patel Ltd',\n",
       " 'card_number': '3505370634703400'}"
      ]
     },
     "execution_count": 6,
     "metadata": {},
     "output_type": "execute_result"
    }
   ],
   "source": [
    "ans=generateTransaction()\n",
    "ans"
   ]
  },
  {
   "cell_type": "code",
   "execution_count": 3,
   "metadata": {},
   "outputs": [],
   "source": [
    "conf={\n",
    "    'bootstrap.servers':'pkc-9q8rv.ap-south-2.aws.confluent.cloud:9092',\n",
    "    'security.protocol':'SASL_SSL',\n",
    "    'sasl.mechanism':'PLAIN',\n",
    "    'sasl.username':'FDKC4MAIXH7KLH5U',\n",
    "    'sasl.password':'yve4EM4ERPNw8SKD9iYKPqo0/9yxXFszVAaZzgYcPkyvQTr1/Pd9wWgA/boGQrET'\n",
    "}"
   ]
  },
  {
   "cell_type": "code",
   "execution_count": 7,
   "metadata": {},
   "outputs": [],
   "source": [
    "producer=Producer(conf)"
   ]
  },
  {
   "cell_type": "code",
   "execution_count": 10,
   "metadata": {},
   "outputs": [
    {
     "name": "stdout",
     "output_type": "stream",
     "text": [
      "message delivered to fraud_detection\n",
      "message delivered to fraud_detection\n",
      "message delivered to fraud_detection\n",
      "message delivered to fraud_detection\n",
      "message delivered to fraud_detection\n",
      "message delivered to fraud_detection\n",
      "message delivered to fraud_detection\n",
      "message delivered to fraud_detection\n",
      "message delivered to fraud_detection\n",
      "message delivered to fraud_detection\n",
      "message delivered to fraud_detection\n",
      "message delivered to fraud_detection\n",
      "message delivered to fraud_detection\n",
      "message delivered to fraud_detection\n",
      "message delivered to fraud_detection\n",
      "message delivered to fraud_detection\n",
      "message delivered to fraud_detection\n",
      "message delivered to fraud_detection\n",
      "message delivered to fraud_detection\n",
      "message delivered to fraud_detection\n",
      "message delivered to fraud_detection\n",
      "message delivered to fraud_detection\n",
      "message delivered to fraud_detection\n",
      "message delivered to fraud_detection\n",
      "message delivered to fraud_detection\n",
      "message delivered to fraud_detection\n",
      "message delivered to fraud_detection\n"
     ]
    },
    {
     "ename": "KeyboardInterrupt",
     "evalue": "",
     "output_type": "error",
     "traceback": [
      "\u001b[1;31m---------------------------------------------------------------------------\u001b[0m",
      "\u001b[1;31mKeyboardInterrupt\u001b[0m                         Traceback (most recent call last)",
      "Cell \u001b[1;32mIn[10], line 5\u001b[0m\n\u001b[0;32m      3\u001b[0m producer\u001b[38;5;241m.\u001b[39mproduce(\u001b[38;5;124m\"\u001b[39m\u001b[38;5;124mfraud_detection\u001b[39m\u001b[38;5;124m\"\u001b[39m,value\u001b[38;5;241m=\u001b[39mjson\u001b[38;5;241m.\u001b[39mdumps(transaction),key\u001b[38;5;241m=\u001b[39m\u001b[38;5;28mstr\u001b[39m(transaction[\u001b[38;5;124m'\u001b[39m\u001b[38;5;124muser_id\u001b[39m\u001b[38;5;124m'\u001b[39m]),callback\u001b[38;5;241m=\u001b[39mdelivery_report)\n\u001b[0;32m      4\u001b[0m producer\u001b[38;5;241m.\u001b[39mflush()\n\u001b[1;32m----> 5\u001b[0m \u001b[43mtime\u001b[49m\u001b[38;5;241;43m.\u001b[39;49m\u001b[43msleep\u001b[49m\u001b[43m(\u001b[49m\u001b[38;5;241;43m1\u001b[39;49m\u001b[43m)\u001b[49m\n",
      "\u001b[1;31mKeyboardInterrupt\u001b[0m: "
     ]
    }
   ],
   "source": [
    "while True:\n",
    "    transaction=generateTransaction()\n",
    "    producer.produce(\"fraud_detection\",value=json.dumps(transaction),key=str(transaction['user_id']),callback=delivery_report)\n",
    "    producer.flush()\n",
    "    time.sleep(1)"
   ]
  },
  {
   "cell_type": "code",
   "execution_count": 9,
   "metadata": {},
   "outputs": [],
   "source": [
    "def delivery_report(err,msg):\n",
    "    if err is not None:\n",
    "        print(f\"message is not delivered : {err}\")\n",
    "    else:\n",
    "        print(f\"message delivered to {msg.topic()}\")"
   ]
  }
 ],
 "metadata": {
  "kernelspec": {
   "display_name": "Python 3.12.1 64-bit",
   "language": "python",
   "name": "python3"
  },
  "language_info": {
   "codemirror_mode": {
    "name": "ipython",
    "version": 3
   },
   "file_extension": ".py",
   "mimetype": "text/x-python",
   "name": "python",
   "nbconvert_exporter": "python",
   "pygments_lexer": "ipython3",
   "version": "3.12.1"
  },
  "orig_nbformat": 4,
  "vscode": {
   "interpreter": {
    "hash": "3fcbd7240ee8f908d933dc7f71e8c42a1a91163b70ede8dcff5146d4087436c7"
   }
  }
 },
 "nbformat": 4,
 "nbformat_minor": 2
}
