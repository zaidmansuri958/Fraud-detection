{
 "cells": [
  {
   "cell_type": "code",
   "execution_count": null,
   "metadata": {},
   "outputs": [],
   "source": [
    "rcdt fcuh nlwl dywt"
   ]
  },
  {
   "cell_type": "code",
   "execution_count": 9,
   "metadata": {},
   "outputs": [],
   "source": [
    "from dotenv import load_dotenv"
   ]
  },
  {
   "cell_type": "code",
   "execution_count": 15,
   "metadata": {},
   "outputs": [
    {
     "data": {
      "text/plain": [
       "True"
      ]
     },
     "execution_count": 15,
     "metadata": {},
     "output_type": "execute_result"
    }
   ],
   "source": [
    "load_dotenv(\"./.env\")"
   ]
  },
  {
   "cell_type": "code",
   "execution_count": 12,
   "metadata": {},
   "outputs": [],
   "source": [
    "import os"
   ]
  },
  {
   "cell_type": "code",
   "execution_count": 16,
   "metadata": {},
   "outputs": [
    {
     "name": "stdout",
     "output_type": "stream",
     "text": [
      "fraud-detection-group\n"
     ]
    }
   ],
   "source": [
    "print(os.getenv(\"KAFKA_GROUP_ID\"))"
   ]
  },
  {
   "cell_type": "code",
   "execution_count": 2,
   "metadata": {},
   "outputs": [],
   "source": [
    "import smtplib\n",
    "from email.mime.text import MIMEText"
   ]
  },
  {
   "cell_type": "code",
   "execution_count": 3,
   "metadata": {},
   "outputs": [],
   "source": [
    "SMTP_SERVER=\"smtp.gmail.com\"\n",
    "SMTP_PORT=587\n",
    "EMAIL_SENDER=\"firozam196@gmail.com\"\n",
    "EMAIL_PASSWORD=\"rcdtfcuhnlwldywt\"\n",
    "EMAIL_RECEIVER=\"zmansuri521@gmail.com\"\n"
   ]
  },
  {
   "cell_type": "code",
   "execution_count": 13,
   "metadata": {},
   "outputs": [
    {
     "name": "stdout",
     "output_type": "stream",
     "text": [
      "Mail sent successfully\n"
     ]
    }
   ],
   "source": [
    "subject=\"test mail\"\n",
    "body=\"This is the test mail\"\n",
    "\n",
    "msg=MIMEText(body,\"plain\")\n",
    "msg[\"Subject\"]=subject\n",
    "msg[\"From\"]=EMAIL_SENDER\n",
    "msg[\"To\"]=EMAIL_RECEIVER\n",
    "\n",
    "try:\n",
    "    server=smtplib.SMTP(SMTP_SERVER,SMTP_PORT)\n",
    "    server.starttls()\n",
    "    server.login(EMAIL_SENDER,EMAIL_PASSWORD)\n",
    "    server.sendmail(EMAIL_SENDER,EMAIL_RECEIVER,msg.as_string())\n",
    "    server.quit()\n",
    "    print(\"Mail sent successfully\")\n",
    "\n",
    "except Exception as e:\n",
    "    print(e)"
   ]
  },
  {
   "cell_type": "code",
   "execution_count": 31,
   "metadata": {},
   "outputs": [],
   "source": [
    "def sendemail_alert(transaction):\n",
    "    subject=\"🚨 Urgent: Suspicious Activity Detected on Your Account! ⚠️\"\n",
    "    body=f\"\"\"\n",
    "    🚨 Immediate Action Required: Unusual Activity on Your Account!\n",
    "\n",
    "        Dear {transaction['merchant']},\n",
    "\n",
    "        We have detected suspicious activity on your account and want to ensure your security. 🔍🔒\n",
    "\n",
    "        Details of the activity:\n",
    "        📅 Date: {transaction['timestamp']}\n",
    "        🌍 Location: {transaction['location']}\n",
    "        💲  Amount:{transaction['amount']}\n",
    "        💳 Transaction: {transaction['transaction_type']}\n",
    "        💳 Card Number: {transaction['card_number']}\n",
    "\n",
    "        If this was not you, please take immediate action:\n",
    "        ✅ Secure your account by resetting your password.\n",
    "        ✅ Review recent transactions for any unauthorized activity.\n",
    "        ✅ Contact our support team at [Customer Support Contact] if you need assistance.\n",
    "    \n",
    "    \n",
    "    \"\"\"\n",
    "\n",
    "    msg=MIMEText(body,\"plain\")\n",
    "    msg[\"Subject\"]=subject\n",
    "    msg[\"From\"]=EMAIL_SENDER\n",
    "    msg[\"To\"]=EMAIL_RECEIVER\n",
    "\n",
    "    try:\n",
    "        server=smtplib.SMTP(SMTP_SERVER,SMTP_PORT)\n",
    "        server.starttls()\n",
    "        server.login(EMAIL_SENDER,EMAIL_PASSWORD)\n",
    "        server.sendmail(EMAIL_SENDER,EMAIL_RECEIVER,msg.as_string())\n",
    "        server.quit()\n",
    "        print(\"Mail sent successfully\")\n",
    "\n",
    "    except Exception as e:\n",
    "        print(e)\n"
   ]
  },
  {
   "cell_type": "code",
   "execution_count": 17,
   "metadata": {},
   "outputs": [],
   "source": [
    "from pymongo import MongoClient"
   ]
  },
  {
   "cell_type": "code",
   "execution_count": 18,
   "metadata": {},
   "outputs": [],
   "source": [
    "import time"
   ]
  },
  {
   "cell_type": "code",
   "execution_count": 19,
   "metadata": {},
   "outputs": [],
   "source": [
    "clinet=MongoClient(os.getenv(\"MONGO_URI\"))\n",
    "df=clinet[os.getenv(\"MONGO_DB\")]\n",
    "collection=df[os.getenv(\"MONGO_COLLECTION\")]"
   ]
  },
  {
   "cell_type": "code",
   "execution_count": 23,
   "metadata": {},
   "outputs": [],
   "source": [
    "def monitor_fraud_transaction():\n",
    "    last_checked_id=None \n",
    "    while True:\n",
    "        latest_fraud=collection.find_one(sort=[(\"_id\",-1)])\n",
    "\n",
    "        if latest_fraud and latest_fraud[\"_id\"]!=last_checked_id:\n",
    "            print(\"New fraud detected : \",latest_fraud)\n",
    "            sendemail_alert(latest_fraud)\n",
    "            last_checked_id=latest_fraud[\"_id\"]\n",
    "\n",
    "        time.sleep(1)\n"
   ]
  },
  {
   "cell_type": "code",
   "execution_count": 33,
   "metadata": {},
   "outputs": [
    {
     "name": "stdout",
     "output_type": "stream",
     "text": [
      "New fraud detected :  {'_id': ObjectId('67c73d6c1369df8ae196d051'), 'transaction_id': '0188314e-1a3f-4c95-864a-52487d5e52a9', 'timestamp': 1741090194, 'user_id': 49631, 'amount': 4308.12, 'transaction_type': 'purchase', 'location': 'New Jacquelinemouth', 'merchant': 'Campbell, Miller and Rios', 'card_number': '30439679507826'}\n",
      "Mail sent successfully\n"
     ]
    },
    {
     "ename": "KeyboardInterrupt",
     "evalue": "",
     "output_type": "error",
     "traceback": [
      "\u001b[1;31m---------------------------------------------------------------------------\u001b[0m",
      "\u001b[1;31mKeyboardInterrupt\u001b[0m                         Traceback (most recent call last)",
      "Cell \u001b[1;32mIn[33], line 1\u001b[0m\n\u001b[1;32m----> 1\u001b[0m \u001b[43mmonitor_fraud_transaction\u001b[49m\u001b[43m(\u001b[49m\u001b[43m)\u001b[49m\n",
      "Cell \u001b[1;32mIn[23], line 11\u001b[0m, in \u001b[0;36mmonitor_fraud_transaction\u001b[1;34m()\u001b[0m\n\u001b[0;32m      8\u001b[0m     sendemail_alert(latest_fraud)\n\u001b[0;32m      9\u001b[0m     last_checked_id\u001b[38;5;241m=\u001b[39mlatest_fraud[\u001b[38;5;124m\"\u001b[39m\u001b[38;5;124m_id\u001b[39m\u001b[38;5;124m\"\u001b[39m]\n\u001b[1;32m---> 11\u001b[0m \u001b[43mtime\u001b[49m\u001b[38;5;241;43m.\u001b[39;49m\u001b[43msleep\u001b[49m\u001b[43m(\u001b[49m\u001b[38;5;241;43m1\u001b[39;49m\u001b[43m)\u001b[49m\n",
      "\u001b[1;31mKeyboardInterrupt\u001b[0m: "
     ]
    }
   ],
   "source": [
    "monitor_fraud_transaction()"
   ]
  }
 ],
 "metadata": {
  "kernelspec": {
   "display_name": "Python 3.12.1 64-bit",
   "language": "python",
   "name": "python3"
  },
  "language_info": {
   "codemirror_mode": {
    "name": "ipython",
    "version": 3
   },
   "file_extension": ".py",
   "mimetype": "text/x-python",
   "name": "python",
   "nbconvert_exporter": "python",
   "pygments_lexer": "ipython3",
   "version": "3.12.1"
  },
  "orig_nbformat": 4,
  "vscode": {
   "interpreter": {
    "hash": "3fcbd7240ee8f908d933dc7f71e8c42a1a91163b70ede8dcff5146d4087436c7"
   }
  }
 },
 "nbformat": 4,
 "nbformat_minor": 2
}
